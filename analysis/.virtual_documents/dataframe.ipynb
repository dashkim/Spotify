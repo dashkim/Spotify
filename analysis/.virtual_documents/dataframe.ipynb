import pandas as pd
import json
import os


data_path = 'data/Ying_Data'
music_files = [f for f in os.listdir(data_path) if f.startswith('StreamingHistory_music') and f.endswith('.json')]


all_data = []

for file in music_files:
    file_path = os.path.join(data_path, file)
    with open(file_path, 'r', encoding='utf-8') as f:
        data = json.load(f)
        all_data.extend(data)

music = pd.DataFrame(all_data)


music



most_streamed_artist_by_songs = music['artistName'].value_counts().reset_index()

most_streamed_artist_by_songs.columns = ['artistName', 'number_of_songs']

most_streamed_artist_by_songs


music['minutesPlayed'] = music['msPlayed'] / 60000

most_streamed_artist_by_minutes = music.groupby('artistName')['minutesPlayed'].sum().reset_index()
most_streamed_artist_by_minutes = most_streamed_artist_by_minutes.sort_values(by='minutesPlayed', ascending=False)

most_streamed_artist_by_minutes
